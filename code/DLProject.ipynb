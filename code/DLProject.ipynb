{
  "nbformat": 4,
  "nbformat_minor": 0,
  "metadata": {
    "colab": {
      "name": "DLProject.ipynb",
      "provenance": [],
      "collapsed_sections": []
    },
    "kernelspec": {
      "name": "python3",
      "display_name": "Python 3"
    },
    "language_info": {
      "name": "python"
    }
  },
  "cells": [
    {
      "cell_type": "code",
      "metadata": {
        "colab": {
          "base_uri": "https://localhost:8080/"
        },
        "id": "jWAwjkbqX5VR",
        "outputId": "56c79488-24bc-448b-8628-4d697c233f79"
      },
      "source": [
        "!pip install dgl\n",
        "\n",
        "import dgl\n",
        "import pytorch"
      ],
      "execution_count": null,
      "outputs": [
        {
          "output_type": "stream",
          "text": [
            "Requirement already satisfied: dgl in /usr/local/lib/python3.7/dist-packages (0.6.1)\n",
            "Requirement already satisfied: requests>=2.19.0 in /usr/local/lib/python3.7/dist-packages (from dgl) (2.23.0)\n",
            "Requirement already satisfied: scipy>=1.1.0 in /usr/local/lib/python3.7/dist-packages (from dgl) (1.4.1)\n",
            "Requirement already satisfied: numpy>=1.14.0 in /usr/local/lib/python3.7/dist-packages (from dgl) (1.19.5)\n",
            "Requirement already satisfied: networkx>=2.1 in /usr/local/lib/python3.7/dist-packages (from dgl) (2.5.1)\n",
            "Requirement already satisfied: chardet<4,>=3.0.2 in /usr/local/lib/python3.7/dist-packages (from requests>=2.19.0->dgl) (3.0.4)\n",
            "Requirement already satisfied: certifi>=2017.4.17 in /usr/local/lib/python3.7/dist-packages (from requests>=2.19.0->dgl) (2021.5.30)\n",
            "Requirement already satisfied: idna<3,>=2.5 in /usr/local/lib/python3.7/dist-packages (from requests>=2.19.0->dgl) (2.10)\n",
            "Requirement already satisfied: urllib3!=1.25.0,!=1.25.1,<1.26,>=1.21.1 in /usr/local/lib/python3.7/dist-packages (from requests>=2.19.0->dgl) (1.24.3)\n",
            "Requirement already satisfied: decorator<5,>=4.3 in /usr/local/lib/python3.7/dist-packages (from networkx>=2.1->dgl) (4.4.2)\n"
          ],
          "name": "stdout"
        },
        {
          "output_type": "stream",
          "text": [
            "Using backend: pytorch\n"
          ],
          "name": "stderr"
        }
      ]
    },
    {
      "cell_type": "code",
      "metadata": {
        "id": "-otrSXwJYKzv"
      },
      "source": [
        "data = dgl.data.MiniGCDataset(num_graphs=100, min_num_v=32, max_num_v=33, seed=0)"
      ],
      "execution_count": null,
      "outputs": []
    },
    {
      "cell_type": "code",
      "metadata": {
        "colab": {
          "base_uri": "https://localhost:8080/"
        },
        "id": "dGJRYXTOYV5h",
        "outputId": "f20bbaea-8f0f-48e4-f298-8e3fbc5dcbb1"
      },
      "source": [
        "len(data)"
      ],
      "execution_count": null,
      "outputs": [
        {
          "output_type": "execute_result",
          "data": {
            "text/plain": [
              "100"
            ]
          },
          "metadata": {
            "tags": []
          },
          "execution_count": 3
        }
      ]
    },
    {
      "cell_type": "code",
      "metadata": {
        "colab": {
          "base_uri": "https://localhost:8080/"
        },
        "id": "rY1IlmdgYv9D",
        "outputId": "5f21f2ec-b85b-4b3f-aec5-8c04135c5d57"
      },
      "source": [
        "g, label = data[64]\n",
        "g"
      ],
      "execution_count": null,
      "outputs": [
        {
          "output_type": "execute_result",
          "data": {
            "text/plain": [
              "Graph(num_nodes=28, num_edges=108,\n",
              "      ndata_schemes={}\n",
              "      edata_schemes={})"
            ]
          },
          "metadata": {
            "tags": []
          },
          "execution_count": 10
        }
      ]
    },
    {
      "cell_type": "code",
      "metadata": {
        "colab": {
          "base_uri": "https://localhost:8080/"
        },
        "id": "Ktn7ce1OY0NT",
        "outputId": "3b251b79-a745-4d6d-9813-0003777957bd"
      },
      "source": [
        "for d in data:\n",
        "    if d[0].num_nodes() != 32:\n",
        "        print(d[0].num_nodes(), d[1])\n",
        "        a = d[1]\n",
        "    #assert d[0].num_nodes() == 16\n",
        "    #assert d[0].num_edges() == 48"
      ],
      "execution_count": null,
      "outputs": [
        {
          "output_type": "stream",
          "text": [
            "27 tensor(5)\n",
            "30 tensor(5)\n",
            "30 tensor(5)\n",
            "28 tensor(5)\n",
            "24 tensor(5)\n",
            "30 tensor(5)\n",
            "27 tensor(5)\n",
            "27 tensor(5)\n",
            "30 tensor(5)\n",
            "30 tensor(5)\n"
          ],
          "name": "stdout"
        }
      ]
    },
    {
      "cell_type": "code",
      "metadata": {
        "colab": {
          "base_uri": "https://localhost:8080/"
        },
        "id": "fKTYX6dAq81G",
        "outputId": "89f099ab-5ef4-4890-ada6-f159489754e0"
      },
      "source": [
        "for d, l in data:\n",
        "    if d.num_nodes() != 32:\n",
        "        print(d.num_nodes())\n",
        "    if l == a:\n",
        "        print(d)"
      ],
      "execution_count": null,
      "outputs": [
        {
          "output_type": "stream",
          "text": [
            "27\n",
            "Graph(num_nodes=27, num_edges=111,\n",
            "      ndata_schemes={}\n",
            "      edata_schemes={})\n",
            "Graph(num_nodes=32, num_edges=136,\n",
            "      ndata_schemes={}\n",
            "      edata_schemes={})\n",
            "30\n",
            "Graph(num_nodes=30, num_edges=124,\n",
            "      ndata_schemes={}\n",
            "      edata_schemes={})\n",
            "30\n",
            "Graph(num_nodes=30, num_edges=124,\n",
            "      ndata_schemes={}\n",
            "      edata_schemes={})\n",
            "28\n",
            "Graph(num_nodes=28, num_edges=108,\n",
            "      ndata_schemes={}\n",
            "      edata_schemes={})\n",
            "24\n",
            "Graph(num_nodes=24, num_edges=92,\n",
            "      ndata_schemes={}\n",
            "      edata_schemes={})\n",
            "30\n",
            "Graph(num_nodes=30, num_edges=124,\n",
            "      ndata_schemes={}\n",
            "      edata_schemes={})\n",
            "Graph(num_nodes=32, num_edges=136,\n",
            "      ndata_schemes={}\n",
            "      edata_schemes={})\n",
            "27\n",
            "Graph(num_nodes=27, num_edges=111,\n",
            "      ndata_schemes={}\n",
            "      edata_schemes={})\n",
            "27\n",
            "Graph(num_nodes=27, num_edges=111,\n",
            "      ndata_schemes={}\n",
            "      edata_schemes={})\n",
            "30\n",
            "Graph(num_nodes=30, num_edges=124,\n",
            "      ndata_schemes={}\n",
            "      edata_schemes={})\n",
            "30\n",
            "Graph(num_nodes=30, num_edges=124,\n",
            "      ndata_schemes={}\n",
            "      edata_schemes={})\n"
          ],
          "name": "stdout"
        }
      ]
    },
    {
      "cell_type": "markdown",
      "metadata": {
        "id": "9W44flRHwYBr"
      },
      "source": [
        "Quindi tutti e soli i grafi con label 5 non hanno 32 nodi, li rimuoviamo."
      ]
    },
    {
      "cell_type": "code",
      "metadata": {
        "id": "5MDwn5u-wc9E"
      },
      "source": [
        ""
      ],
      "execution_count": null,
      "outputs": []
    }
  ]
}