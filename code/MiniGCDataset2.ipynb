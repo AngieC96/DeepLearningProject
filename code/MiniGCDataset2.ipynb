{
 "metadata": {
  "language_info": {
   "codemirror_mode": {
    "name": "ipython",
    "version": 3
   },
   "file_extension": ".py",
   "mimetype": "text/x-python",
   "name": "python",
   "nbconvert_exporter": "python",
   "pygments_lexer": "ipython3",
   "version": "3.8.8"
  },
  "orig_nbformat": 4,
  "kernelspec": {
   "name": "python3",
   "display_name": "Python 3.8.8 64-bit"
  },
  "interpreter": {
   "hash": "fc28f14e0d99369371eae330326bab67bfd54545531b1b88e9cf0304bc7b9e1f"
  }
 },
 "nbformat": 4,
 "nbformat_minor": 2,
 "cells": [
  {
   "cell_type": "code",
   "execution_count": 1,
   "metadata": {},
   "outputs": [
    {
     "output_type": "stream",
     "name": "stderr",
     "text": [
      "Using backend: pytorch\n"
     ]
    }
   ],
   "source": [
    "import dgl\n",
    "import torch\n",
    "import torch.nn as nn\n",
    "import numpy as np\n",
    "import networkx as nx"
   ]
  },
  {
   "cell_type": "code",
   "execution_count": 2,
   "metadata": {},
   "outputs": [],
   "source": [
    "def collate(samples):\n",
    "    graphs, labels = map(list, zip(*samples))\n",
    "    batched_graph = dgl.batch(graphs)\n",
    "    return batched_graph, torch.tensor(labels)"
   ]
  },
  {
   "cell_type": "code",
   "execution_count": 3,
   "metadata": {},
   "outputs": [],
   "source": [
    "from torch.utils.data import DataLoader\n",
    "\n",
    "number_examples = 2000\n",
    "min_number_nodes = 32\n",
    "max_number_nodes = 64\n",
    "\n",
    "num_train_examples = int(number_examples * 0.8)\n",
    "num_test_examples = number_examples - num_train_examples\n",
    "minibatch_size = 16\n",
    "\n",
    "train_set = dgl.data.MiniGCDataset(num_train_examples, min_number_nodes, max_number_nodes, seed=0)\n",
    "test_set = dgl.data.MiniGCDataset(num_test_examples, min_number_nodes * 2, max_number_nodes * 2, seed=0)\n",
    "\n",
    "train_dataloader = DataLoader(\n",
    "    train_set, batch_size=minibatch_size, drop_last=False, shuffle=True, collate_fn=collate)\n",
    "test_dataloader = DataLoader(\n",
    "    test_set, batch_size=minibatch_size, drop_last=False, shuffle=True, collate_fn=collate)"
   ]
  },
  {
   "cell_type": "code",
   "execution_count": 7,
   "metadata": {},
   "outputs": [],
   "source": [
    "from dgl.nn import GraphConv\n",
    "\n",
    "class GCN(nn.Module):\n",
    "    def __init__(self, input_dim, hidden_dim, num_classes):\n",
    "        super(GCN, self).__init__()\n",
    "        self.conv1 = GraphConv(input_dim, hidden_dim)\n",
    "        self.conv2 = GraphConv(hidden_dim, hidden_dim)\n",
    "        self.classifier = nn.Linear(hidden_dim, num_classes)\n",
    "\n",
    "    def forward(self, graph):\n",
    "        h = graph.in_degrees().view(-1, 1).float() # Use node degree as the initial node feature\n",
    "        h = self.conv1(graph, h)\n",
    "        h = nn.functional.relu(h)\n",
    "        h = self.conv2(graph, h)\n",
    "        h = nn.functional.relu(h)\n",
    "        graph.ndata['h'] = h\n",
    "        \n",
    "        global_h = dgl.mean_nodes(graph, 'h')\n",
    "        return self.classifier(global_h)"
   ]
  },
  {
   "cell_type": "code",
   "execution_count": 8,
   "metadata": {},
   "outputs": [],
   "source": [
    "def train(graphs, model, epochs):\n",
    "    optimizer = torch.optim.Adam(model.parameters(), lr=0.001)\n",
    "\n",
    "    model.train()\n",
    "    for epoch in range(epochs+1):\n",
    "        for batched_graph, labels in train_dataloader:\n",
    "            pred = model(batched_graph)\n",
    "            loss = nn.functional.cross_entropy(pred, labels)\n",
    "            optimizer.zero_grad()\n",
    "            loss.backward()\n",
    "            optimizer.step()\n",
    "\n",
    "        model.eval()\n",
    "        num_correct = 0\n",
    "        num_tests = 0\n",
    "        for batched_graph, labels in test_dataloader:\n",
    "            pred = model(batched_graph)\n",
    "            num_correct += (pred.argmax(1) == labels).sum().item()\n",
    "            num_tests += len(labels)\n",
    "\n",
    "        if epoch % 5 == 0:\n",
    "            print('In epoch {}, training loss: {:4f}, test accuracy: {}%'.format(\n",
    "                epoch, loss, (num_correct / num_tests) * 100))"
   ]
  },
  {
   "cell_type": "code",
   "execution_count": 9,
   "metadata": {},
   "outputs": [
    {
     "output_type": "stream",
     "name": "stdout",
     "text": [
      "In epoch 0, training loss: 1.694887, test accuracy: 12.5%\n",
      "In epoch 5, training loss: 0.607292, test accuracy: 60.25%\n",
      "In epoch 10, training loss: 0.281312, test accuracy: 60.0%\n",
      "In epoch 15, training loss: 0.154444, test accuracy: 69.5%\n",
      "In epoch 20, training loss: 0.221576, test accuracy: 81.25%\n",
      "In epoch 25, training loss: 0.159969, test accuracy: 81.25%\n",
      "In epoch 30, training loss: 0.092578, test accuracy: 83.0%\n",
      "In epoch 35, training loss: 0.161463, test accuracy: 81.25%\n",
      "In epoch 40, training loss: 0.146833, test accuracy: 81.25%\n",
      "In epoch 45, training loss: 0.047196, test accuracy: 82.5%\n",
      "In epoch 50, training loss: 0.024457, test accuracy: 81.75%\n",
      "In epoch 55, training loss: 0.074207, test accuracy: 83.0%\n",
      "In epoch 60, training loss: 0.020079, test accuracy: 83.0%\n",
      "In epoch 65, training loss: 0.067173, test accuracy: 81.25%\n",
      "In epoch 70, training loss: 0.005780, test accuracy: 82.25%\n",
      "In epoch 75, training loss: 0.007247, test accuracy: 82.25%\n",
      "In epoch 80, training loss: 0.016956, test accuracy: 84.75%\n",
      "In epoch 85, training loss: 0.004530, test accuracy: 82.75%\n",
      "In epoch 90, training loss: 0.005343, test accuracy: 85.5%\n",
      "In epoch 95, training loss: 0.006744, test accuracy: 85.75%\n",
      "In epoch 100, training loss: 0.009317, test accuracy: 85.5%\n"
     ]
    }
   ],
   "source": [
    "model = model = GCN(1, 256, train_set.num_classes)\n",
    "train(train_set, model, 100)"
   ]
  }
 ]
}